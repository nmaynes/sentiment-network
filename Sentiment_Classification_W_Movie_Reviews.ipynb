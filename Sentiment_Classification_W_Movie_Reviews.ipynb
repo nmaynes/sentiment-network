{
 "cells": [
  {
   "cell_type": "markdown",
   "metadata": {},
   "source": [
    "# Sentiment Classification & How To \"Frame Problems\" for a Neural Network\n",
    "\n",
    "by Andrew Trask\n",
    "modified by Nathan Maynes\n",
    "\n",
    "- **Trask Twitter**: @iamtrask\n",
    "- **Trask Blog**: http://iamtrask.github.io\n",
    "- **Maynes Twitter**: @nathanmaynes"
   ]
  },
  {
   "cell_type": "markdown",
   "metadata": {},
   "source": [
    "### Concepts We Will Use\n",
    "\n",
    "- neural networks, forward and back-propagation\n",
    "- stochastic gradient descent\n",
    "- mean squared error\n",
    "- and train/test splits\n",
    "\n",
    "### Where to Get Help if You Need it\n",
    "\n",
    "- Extra Reading Material - [Grokking Deep Learning](https://www.manning.com/books/grokking-deep-learning)\n",
    "- Shoot a tweet @iamtrask or @nathanmaynes\n"
   ]
  },
  {
   "cell_type": "markdown",
   "metadata": {
    "nbpresent": {
     "id": "56bb3cba-260c-4ebe-9ed6-b995b4c72aa3"
    }
   },
   "source": [
    "# Curate a Dataset"
   ]
  },
  {
   "cell_type": "code",
   "execution_count": 2,
   "metadata": {
    "collapsed": false,
    "nbpresent": {
     "id": "eba2b193-0419-431e-8db9-60f34dd3fe83"
    }
   },
   "outputs": [],
   "source": [
    "def pretty_print_review_and_label(i):\n",
    "    print(labels[i] + \"\\t:\\t\" + reviews[i][:80] + \"...\")\n",
    "\n",
    "g = open('reviews.txt','r') # What we know!\n",
    "reviews = list(map(lambda x:x[:-1],g.readlines()))\n",
    "g.close()\n",
    "\n",
    "g = open('labels.txt','r') # What we WANT to know!\n",
    "labels = list(map(lambda x:x[:-1].upper(),g.readlines()))\n",
    "g.close()"
   ]
  },
  {
   "cell_type": "code",
   "execution_count": 3,
   "metadata": {
    "collapsed": false
   },
   "outputs": [
    {
     "data": {
      "text/plain": [
       "25000"
      ]
     },
     "execution_count": 3,
     "metadata": {},
     "output_type": "execute_result"
    }
   ],
   "source": [
    "len(reviews)"
   ]
  },
  {
   "cell_type": "code",
   "execution_count": 4,
   "metadata": {
    "collapsed": false,
    "nbpresent": {
     "id": "bb95574b-21a0-4213-ae50-34363cf4f87f"
    }
   },
   "outputs": [
    {
     "data": {
      "text/plain": [
       "'bromwell high is a cartoon comedy . it ran at the same time as some other programs about school life  such as  teachers  . my   years in the teaching profession lead me to believe that bromwell high  s satire is much closer to reality than is  teachers  . the scramble to survive financially  the insightful students who can see right through their pathetic teachers  pomp  the pettiness of the whole situation  all remind me of the schools i knew and their students . when i saw the episode in which a student repeatedly tried to burn down the school  i immediately recalled . . . . . . . . . at . . . . . . . . . . high . a classic line inspector i  m here to sack one of your teachers . student welcome to bromwell high . i expect that many adults of my age think that bromwell high is far fetched . what a pity that it isn  t   '"
      ]
     },
     "execution_count": 4,
     "metadata": {},
     "output_type": "execute_result"
    }
   ],
   "source": [
    "reviews[0]"
   ]
  },
  {
   "cell_type": "code",
   "execution_count": 5,
   "metadata": {
    "collapsed": false,
    "nbpresent": {
     "id": "e0408810-c424-4ed4-afb9-1735e9ddbd0a"
    }
   },
   "outputs": [
    {
     "data": {
      "text/plain": [
       "'POSITIVE'"
      ]
     },
     "execution_count": 5,
     "metadata": {},
     "output_type": "execute_result"
    }
   ],
   "source": [
    "labels[0]"
   ]
  },
  {
   "cell_type": "markdown",
   "metadata": {},
   "source": [
    "# Develop a Predictive Theory"
   ]
  },
  {
   "cell_type": "code",
   "execution_count": 6,
   "metadata": {
    "collapsed": false,
    "nbpresent": {
     "id": "e67a709f-234f-4493-bae6-4fb192141ee0"
    }
   },
   "outputs": [
    {
     "name": "stdout",
     "output_type": "stream",
     "text": [
      "labels.txt \t : \t reviews.txt\n",
      "\n",
      "NEGATIVE\t:\tthis movie is terrible but it has some good effects .  ...\n",
      "POSITIVE\t:\tadrian pasdar is excellent is this film . he makes a fascinating woman .  ...\n",
      "NEGATIVE\t:\tcomment this movie is impossible . is terrible  very improbable  bad interpretat...\n",
      "POSITIVE\t:\texcellent episode movie ala pulp fiction .  days   suicides . it doesnt get more...\n",
      "NEGATIVE\t:\tif you haven  t seen this  it  s terrible . it is pure trash . i saw this about ...\n",
      "POSITIVE\t:\tthis schiffer guy is a real genius  the movie is of excellent quality and both e...\n"
     ]
    }
   ],
   "source": [
    "print(\"labels.txt \\t : \\t reviews.txt\\n\")\n",
    "pretty_print_review_and_label(2137)\n",
    "pretty_print_review_and_label(12816)\n",
    "pretty_print_review_and_label(6267)\n",
    "pretty_print_review_and_label(21934)\n",
    "pretty_print_review_and_label(5297)\n",
    "pretty_print_review_and_label(4998)"
   ]
  },
  {
   "cell_type": "markdown",
   "metadata": {},
   "source": [
    "# Quick Theory Validation"
   ]
  },
  {
   "cell_type": "code",
   "execution_count": 7,
   "metadata": {
    "collapsed": false
   },
   "outputs": [],
   "source": [
    "from collections import Counter\n",
    "import numpy as np"
   ]
  },
  {
   "cell_type": "code",
   "execution_count": 8,
   "metadata": {
    "collapsed": true
   },
   "outputs": [],
   "source": [
    "positive_counts = Counter()\n",
    "negative_counts = Counter()\n",
    "total_counts = Counter()"
   ]
  },
  {
   "cell_type": "code",
   "execution_count": 9,
   "metadata": {
    "collapsed": true
   },
   "outputs": [],
   "source": [
    "for i in range(len(reviews)):\n",
    "    if(labels[i] == 'POSITIVE'):\n",
    "        for word in reviews[i].split(\" \"):\n",
    "            positive_counts[word] += 1\n",
    "            total_counts[word] += 1\n",
    "    else:\n",
    "        for word in reviews[i].split(\" \"):\n",
    "            negative_counts[word] += 1\n",
    "            total_counts[word] += 1"
   ]
  },
  {
   "cell_type": "code",
   "execution_count": 10,
   "metadata": {
    "collapsed": false
   },
   "outputs": [
    {
     "data": {
      "text/plain": [
       "[('', 550468),\n",
       " ('the', 173324),\n",
       " ('.', 159654),\n",
       " ('and', 89722),\n",
       " ('a', 83688),\n",
       " ('of', 76855),\n",
       " ('to', 66746),\n",
       " ('is', 57245),\n",
       " ('in', 50215),\n",
       " ('br', 49235)]"
      ]
     },
     "execution_count": 10,
     "metadata": {},
     "output_type": "execute_result"
    }
   ],
   "source": [
    "positive_counts.most_common(10)"
   ]
  },
  {
   "cell_type": "code",
   "execution_count": 11,
   "metadata": {
    "collapsed": true
   },
   "outputs": [],
   "source": [
    "pos_neg_ratios = Counter()\n",
    "\n",
    "for term,cnt in list(total_counts.most_common()):\n",
    "    if(cnt > 100):\n",
    "        pos_neg_ratio = positive_counts[term] / float(negative_counts[term]+1)\n",
    "        pos_neg_ratios[term] = pos_neg_ratio\n",
    "\n",
    "for word,ratio in pos_neg_ratios.most_common():\n",
    "    if(ratio > 1):\n",
    "        pos_neg_ratios[word] = np.log(ratio)\n",
    "    else:\n",
    "        pos_neg_ratios[word] = -np.log((1 / (ratio+0.01)))"
   ]
  },
  {
   "cell_type": "code",
   "execution_count": 12,
   "metadata": {
    "collapsed": false
   },
   "outputs": [
    {
     "data": {
      "text/plain": [
       "[('edie', 4.6913478822291435),\n",
       " ('paulie', 4.0775374439057197),\n",
       " ('felix', 3.1527360223636558),\n",
       " ('polanski', 2.8233610476132043),\n",
       " ('matthau', 2.8067217286092401),\n",
       " ('victoria', 2.6810215287142909),\n",
       " ('mildred', 2.6026896854443837),\n",
       " ('gandhi', 2.5389738710582761),\n",
       " ('flawless', 2.451005098112319),\n",
       " ('superbly', 2.2600254785752498)]"
      ]
     },
     "execution_count": 12,
     "metadata": {},
     "output_type": "execute_result"
    }
   ],
   "source": [
    "# words most frequently seen in a review with a \"POSITIVE\" label\n",
    "pos_neg_ratios.most_common(10)"
   ]
  },
  {
   "cell_type": "code",
   "execution_count": 13,
   "metadata": {
    "collapsed": false,
    "scrolled": true
   },
   "outputs": [
    {
     "data": {
      "text/plain": [
       "[('superbly', 2.2600254785752498),\n",
       " ('flawless', 2.451005098112319),\n",
       " ('gandhi', 2.5389738710582761),\n",
       " ('mildred', 2.6026896854443837),\n",
       " ('victoria', 2.6810215287142909),\n",
       " ('matthau', 2.8067217286092401),\n",
       " ('polanski', 2.8233610476132043),\n",
       " ('felix', 3.1527360223636558),\n",
       " ('paulie', 4.0775374439057197),\n",
       " ('edie', 4.6913478822291435)]"
      ]
     },
     "execution_count": 13,
     "metadata": {},
     "output_type": "execute_result"
    }
   ],
   "source": [
    "# words most frequently seen in a review with a \"NEGATIVE\" label\n",
    "list(reversed(pos_neg_ratios.most_common(10)))"
   ]
  },
  {
   "cell_type": "markdown",
   "metadata": {},
   "source": [
    "# Transforming Text into Numbers"
   ]
  },
  {
   "cell_type": "code",
   "execution_count": 14,
   "metadata": {
    "collapsed": false
   },
   "outputs": [
    {
     "data": {
      "image/png": "[encoded data removed]",
      "text/plain": [
       "<IPython.core.display.Image object>"
      ]
     },
     "execution_count": 14,
     "metadata": {},
     "output_type": "execute_result"
    }
   ],
   "source": [
    "from IPython.display import Image\n",
    "\n",
    "review = \"This was a horrible, terrible movie.\"\n",
    "\n",
    "Image(filename='sentiment_network.png')"
   ]
  },
  {
   "cell_type": "code",
   "execution_count": 15,
   "metadata": {
    "collapsed": false
   },
   "outputs": [
    {
     "data": {
      "image/png": "[encoded data removed]",
      "text/plain": [
       "<IPython.core.display.Image object>"
      ]
     },
     "execution_count": 15,
     "metadata": {},
     "output_type": "execute_result"
    }
   ],
   "source": [
    "review = \"The movie was excellent\"\n",
    "\n",
    "Image(filename='sentiment_network_pos.png')"
   ]
  },
  {
   "cell_type": "markdown",
   "metadata": {
    "collapsed": true
   },
   "source": [
    "# Creating the Input/Output Data"
   ]
  },
  {
   "cell_type": "code",
   "execution_count": 16,
   "metadata": {
    "collapsed": false
   },
   "outputs": [
    {
     "name": "stdout",
     "output_type": "stream",
     "text": [
      "74074\n"
     ]
    }
   ],
   "source": [
    "vocab = set(total_counts.keys())\n",
    "vocab_size = len(vocab)\n",
    "print(vocab_size)"
   ]
  },
  {
   "cell_type": "code",
   "execution_count": 17,
   "metadata": {
    "collapsed": false
   },
   "outputs": [
    {
     "data": {
      "text/plain": [
       "['',\n",
       " 'iaac',\n",
       " 'ich',\n",
       " 'sanctions',\n",
       " 'corrosive',\n",
       " 'fared',\n",
       " 'animalplanet',\n",
       " 'frowning',\n",
       " 'forefathers',\n",
       " 'munchies']"
      ]
     },
     "execution_count": 17,
     "metadata": {},
     "output_type": "execute_result"
    }
   ],
   "source": [
    "list(vocab)[0:10]"
   ]
  },
  {
   "cell_type": "code",
   "execution_count": 18,
   "metadata": {
    "collapsed": false
   },
   "outputs": [
    {
     "data": {
      "text/plain": [
       "array([[ 0.,  0.,  0., ...,  0.,  0.,  0.]])"
      ]
     },
     "execution_count": 18,
     "metadata": {},
     "output_type": "execute_result"
    }
   ],
   "source": [
    "import numpy as np\n",
    "\n",
    "layer_0 = np.zeros((1,vocab_size))\n",
    "layer_0"
   ]
  },
  {
   "cell_type": "code",
   "execution_count": 19,
   "metadata": {
    "collapsed": false
   },
   "outputs": [
    {
     "data": {
      "image/png": "[encoded data removed]",
      "text/plain": [
       "<IPython.core.display.Image object>"
      ]
     },
     "execution_count": 19,
     "metadata": {},
     "output_type": "execute_result"
    }
   ],
   "source": [
    "from IPython.display import Image\n",
    "Image(filename='sentiment_network.png')"
   ]
  },
  {
   "cell_type": "code",
   "execution_count": 20,
   "metadata": {
    "collapsed": false
   },
   "outputs": [
    {
     "data": {
      "text/plain": [
       "{'': 0,\n",
       " 'iaac': 1,\n",
       " 'ich': 2,\n",
       " 'sanctions': 3,\n",
       " 'corrosive': 4,\n",
       " 'fared': 5,\n",
       " 'animalplanet': 6,\n",
       " 'frowning': 7,\n",
       " 'forefathers': 8,\n",
       " 'munchies': 9,\n",
       " 'thicket': 10,\n",
       " 'despairs': 11,\n",
       " 'discomfiture': 12,\n",
       " 'floater': 13,\n",
       " 'zaniness': 14,\n",
       " 'fortuate': 15,\n",
       " 'verges': 16,\n",
       " 'wii': 17,\n",
       " 'leak': 18,\n",
       " 'deirdre': 19,\n",
       " 'wooley': 20,\n",
       " 'bams': 21,\n",
       " 'helm': 22,\n",
       " 'ventriloquist': 23,\n",
       " 'kellogg': 24,\n",
       " 'ngoyen': 25,\n",
       " 'cratchit': 26,\n",
       " 'conditioned': 27,\n",
       " 'tinkered': 28,\n",
       " 'widen': 29,\n",
       " 'anguished': 30,\n",
       " 'lokis': 31,\n",
       " 'squabbling': 32,\n",
       " 'silvio': 33,\n",
       " 'contribute': 34,\n",
       " 'daisenso': 35,\n",
       " 'yellower': 36,\n",
       " 'meridian': 37,\n",
       " 'trendy': 38,\n",
       " 'crocodiles': 39,\n",
       " 'goobacks': 40,\n",
       " 'mugged': 41,\n",
       " 'paz': 42,\n",
       " 'corner': 43,\n",
       " 'tarasco': 44,\n",
       " 'gowky': 45,\n",
       " 'jabbed': 46,\n",
       " 'arthritic': 47,\n",
       " 'slitting': 48,\n",
       " 'theissen': 49,\n",
       " 'stereophonics': 50,\n",
       " 'biosphere': 51,\n",
       " 'adverts': 52,\n",
       " 'spots': 53,\n",
       " 'supplies': 54,\n",
       " 'outdo': 55,\n",
       " 'mortadello': 56,\n",
       " 'foisting': 57,\n",
       " 'slobs': 58,\n",
       " 'possession': 59,\n",
       " 'deewana': 60,\n",
       " 'downloading': 61,\n",
       " 'avaricious': 62,\n",
       " 'deosnt': 63,\n",
       " 'ayin': 64,\n",
       " 'shortly': 65,\n",
       " 'goodhearted': 66,\n",
       " 'components': 67,\n",
       " 'hound': 68,\n",
       " 'perinal': 69,\n",
       " 'brushing': 70,\n",
       " 'noland': 71,\n",
       " 'syphilis': 72,\n",
       " 'allegorical': 73,\n",
       " 'lead': 74,\n",
       " 'proxate': 75,\n",
       " 'honolulu': 76,\n",
       " 'bankrupted': 77,\n",
       " 'icewater': 78,\n",
       " 'wrinkler': 79,\n",
       " 'estimates': 80,\n",
       " 'meera': 81,\n",
       " 'koboi': 82,\n",
       " 'redfield': 83,\n",
       " 'servant': 84,\n",
       " 'duologue': 85,\n",
       " 'planets': 86,\n",
       " 'pentimento': 87,\n",
       " 'devalued': 88,\n",
       " 'calcutta': 89,\n",
       " 'farrago': 90,\n",
       " 'godfather': 91,\n",
       " 'debauched': 92,\n",
       " 'gialli': 93,\n",
       " 'seldes': 94,\n",
       " 'viju': 95,\n",
       " 'militiaman': 96,\n",
       " 'maschera': 97,\n",
       " 'zardine': 98,\n",
       " 'pronounciationsp': 99,\n",
       " 'dalmation': 100,\n",
       " 'growling': 101,\n",
       " 'lakewood': 102,\n",
       " 'mobocracy': 103,\n",
       " 'cannible': 104,\n",
       " 'sleepwalkers': 105,\n",
       " 'mic': 106,\n",
       " 'boulange': 107,\n",
       " 'redemption': 108,\n",
       " 'sherif': 109,\n",
       " 'paolo': 110,\n",
       " 'smothers': 111,\n",
       " 'traps': 112,\n",
       " 'sticky': 113,\n",
       " 'moms': 114,\n",
       " 'awash': 115,\n",
       " 'blinding': 116,\n",
       " 'mishmashes': 117,\n",
       " 'increses': 118,\n",
       " 'rasmusser': 119,\n",
       " 'horus': 120,\n",
       " 'nanouk': 121,\n",
       " 'sox': 122,\n",
       " 'leva': 123,\n",
       " 'unlike': 124,\n",
       " 'kossak': 125,\n",
       " 'rossen': 126,\n",
       " 'particular': 127,\n",
       " 'thionite': 128,\n",
       " 'slips': 129,\n",
       " 'outplayed': 130,\n",
       " 'audibly': 131,\n",
       " 'snidley': 132,\n",
       " 'pagemaster': 133,\n",
       " 'masque': 134,\n",
       " 'moranis': 135,\n",
       " 'psychotherapist': 136,\n",
       " 'cliffhangers': 137,\n",
       " 'concludes': 138,\n",
       " 'philosophize': 139,\n",
       " 'tuck': 140,\n",
       " 'snogging': 141,\n",
       " 'deferment': 142,\n",
       " 'dix': 143,\n",
       " 'semite': 144,\n",
       " 'considering': 145,\n",
       " 'newport': 146,\n",
       " 'apologists': 147,\n",
       " 'vitro': 148,\n",
       " 'diversifying': 149,\n",
       " 'channeled': 150,\n",
       " 'reignites': 151,\n",
       " 'twinkies': 152,\n",
       " 'niamh': 153,\n",
       " 'aborting': 154,\n",
       " 'sundayafternoon': 155,\n",
       " 'eriksson': 156,\n",
       " 'chechens': 157,\n",
       " 'annapolis': 158,\n",
       " 'fife': 159,\n",
       " 'biohazard': 160,\n",
       " 'ghouls': 161,\n",
       " 'hypobolic': 162,\n",
       " 'slopes': 163,\n",
       " 'missionaries': 164,\n",
       " 'afterglow': 165,\n",
       " 'unsolicited': 166,\n",
       " 'hellish': 167,\n",
       " 'status': 168,\n",
       " 'eventy': 169,\n",
       " 'plasticy': 170,\n",
       " 'carax': 171,\n",
       " 'tavoularis': 172,\n",
       " 'fabersham': 173,\n",
       " 'gek': 174,\n",
       " 'hades': 175,\n",
       " 'pernell': 176,\n",
       " 'snags': 177,\n",
       " 'dags': 178,\n",
       " 'checkpoint': 179,\n",
       " 'glass': 180,\n",
       " 'governors': 181,\n",
       " 'petulant': 182,\n",
       " 'plasticky': 183,\n",
       " 'appeased': 184,\n",
       " 'mcgowan': 185,\n",
       " 'suspecting': 186,\n",
       " 'guaranteeing': 187,\n",
       " 'externalised': 188,\n",
       " 'fairbanks': 189,\n",
       " 'provincetown': 190,\n",
       " 'martine': 191,\n",
       " 'jokester': 192,\n",
       " 'aiken': 193,\n",
       " 'gangsta': 194,\n",
       " 'past': 195,\n",
       " 'entrusts': 196,\n",
       " 'elicot': 197,\n",
       " 'xs': 198,\n",
       " 'carolinas': 199,\n",
       " 'timely': 200,\n",
       " 'soloist': 201,\n",
       " 'scorpions': 202,\n",
       " 'ery': 203,\n",
       " 'caffeinated': 204,\n",
       " 'intake': 205,\n",
       " 'sidesplitter': 206,\n",
       " 'hagar': 207,\n",
       " 'anachronistically': 208,\n",
       " 'determining': 209,\n",
       " 'sufered': 210,\n",
       " 'lima': 211,\n",
       " 'antagonistic': 212,\n",
       " 'bilb': 213,\n",
       " 'toyoko': 214,\n",
       " 'mindset': 215,\n",
       " 'breed': 216,\n",
       " 'sanchez': 217,\n",
       " 'khoi': 218,\n",
       " 'scorscese': 219,\n",
       " 'treatises': 220,\n",
       " 'cosmeticly': 221,\n",
       " 'enjoyment': 222,\n",
       " 'bhoomika': 223,\n",
       " 'fountain': 224,\n",
       " 'baldness': 225,\n",
       " 'lethally': 226,\n",
       " 'heals': 227,\n",
       " 'chomsky': 228,\n",
       " 'glanced': 229,\n",
       " 'cuba': 230,\n",
       " 'ashitaka': 231,\n",
       " 'begley': 232,\n",
       " 'missourians': 233,\n",
       " 'solipsistic': 234,\n",
       " 'coghlan': 235,\n",
       " 'smackdowns': 236,\n",
       " 'alzheimer': 237,\n",
       " 'scanned': 238,\n",
       " 'sylvie': 239,\n",
       " 'linclon': 240,\n",
       " 'baransky': 241,\n",
       " 'saddened': 242,\n",
       " 'wielding': 243,\n",
       " 'algerian': 244,\n",
       " 'ufos': 245,\n",
       " 'heated': 246,\n",
       " 'dama': 247,\n",
       " 'bellini': 248,\n",
       " 'facilitate': 249,\n",
       " 'conclusions': 250,\n",
       " 'mwuhahahaa': 251,\n",
       " 'dilapidated': 252,\n",
       " 'phantasmal': 253,\n",
       " 'harbouring': 254,\n",
       " 'acre': 255,\n",
       " 'establishment': 256,\n",
       " 'imprest': 257,\n",
       " 'norman': 258,\n",
       " 'malil': 259,\n",
       " 'drifting': 260,\n",
       " 'fun': 261,\n",
       " 'fled': 262,\n",
       " 'grammies': 263,\n",
       " 'boel': 264,\n",
       " 'raoul': 265,\n",
       " 'cragg': 266,\n",
       " 'hoovervilles': 267,\n",
       " 'waz': 268,\n",
       " 'willing': 269,\n",
       " 'dirks': 270,\n",
       " 'helming': 271,\n",
       " 'batlike': 272,\n",
       " 'bossing': 273,\n",
       " 'traipsing': 274,\n",
       " 'liqueur': 275,\n",
       " 'trembling': 276,\n",
       " 'hort': 277,\n",
       " 'lemon': 278,\n",
       " 'face': 279,\n",
       " 'motor': 280,\n",
       " 'someome': 281,\n",
       " 'toten': 282,\n",
       " 'succesfully': 283,\n",
       " 'uncivilized': 284,\n",
       " 'silvestri': 285,\n",
       " 'kensett': 286,\n",
       " 'slomo': 287,\n",
       " 'waned': 288,\n",
       " 'sway': 289,\n",
       " 'inequity': 290,\n",
       " 'spectator': 291,\n",
       " 'filmograpghy': 292,\n",
       " 'montmartre': 293,\n",
       " 'equivalencing': 294,\n",
       " 'stollen': 295,\n",
       " 'cloud': 296,\n",
       " 'casomai': 297,\n",
       " 'sputtering': 298,\n",
       " 'fictions': 299,\n",
       " 'gruelingly': 300,\n",
       " 'matel': 301,\n",
       " 'jelly': 302,\n",
       " 'tricksters': 303,\n",
       " 'luthor': 304,\n",
       " 'grate': 305,\n",
       " 'rahman': 306,\n",
       " 'pronoun': 307,\n",
       " 'culled': 308,\n",
       " 'nike': 309,\n",
       " 'piotr': 310,\n",
       " 'withholds': 311,\n",
       " 'inversion': 312,\n",
       " 'brecht': 313,\n",
       " 'nutters': 314,\n",
       " 'kasumi': 315,\n",
       " 'davonne': 316,\n",
       " 'whack': 317,\n",
       " 'sheen': 318,\n",
       " 'technological': 319,\n",
       " 'productively': 320,\n",
       " 'wished': 321,\n",
       " 'seismic': 322,\n",
       " 'devastiingly': 323,\n",
       " 'headley': 324,\n",
       " 'marseilles': 325,\n",
       " 'bobb': 326,\n",
       " 'enrich': 327,\n",
       " 'chillingly': 328,\n",
       " 'lowers': 329,\n",
       " 'remembering': 330,\n",
       " 'federale': 331,\n",
       " 'twitty': 332,\n",
       " 'country': 333,\n",
       " 'stuttgart': 334,\n",
       " 'museum': 335,\n",
       " 'porte': 336,\n",
       " 'irredeemable': 337,\n",
       " 'razzoff': 338,\n",
       " 'haaaaaaaaaaaaaarr': 339,\n",
       " 'mimics': 340,\n",
       " 'wurb': 341,\n",
       " 'elaborated': 342,\n",
       " 'helmit': 343,\n",
       " 'idealised': 344,\n",
       " 'calderon': 345,\n",
       " 'banaras': 346,\n",
       " 'graying': 347,\n",
       " 'targeted': 348,\n",
       " 'hulce': 349,\n",
       " 'hysterically': 350,\n",
       " 'argued': 351,\n",
       " 'schrer': 352,\n",
       " 'detailing': 353,\n",
       " 'sollipsism': 354,\n",
       " 'hutchinson': 355,\n",
       " 'cheerios': 356,\n",
       " 'implacable': 357,\n",
       " 'munson': 358,\n",
       " 'ioana': 359,\n",
       " 'incomprehensible': 360,\n",
       " 'orlando': 361,\n",
       " 'cartwrightbrideyahoo': 362,\n",
       " 'sceptical': 363,\n",
       " 'perky': 364,\n",
       " 'abortive': 365,\n",
       " 'isolate': 366,\n",
       " 'hamatova': 367,\n",
       " 'tarots': 368,\n",
       " 'sayings': 369,\n",
       " 'cashman': 370,\n",
       " 'decontamination': 371,\n",
       " 'pact': 372,\n",
       " 'gourds': 373,\n",
       " 'sims': 374,\n",
       " 'uk': 375,\n",
       " 'rabble': 376,\n",
       " 'leafs': 377,\n",
       " 'abi': 378,\n",
       " 'sweetie': 379,\n",
       " 'cockamamie': 380,\n",
       " 'fessenden': 381,\n",
       " 'chronicling': 382,\n",
       " 'absoulely': 383,\n",
       " 'caracas': 384,\n",
       " 'frutti': 385,\n",
       " 'abruptly': 386,\n",
       " 'rafiki': 387,\n",
       " 'velveeta': 388,\n",
       " 'implementation': 389,\n",
       " 'doting': 390,\n",
       " 'bunghole': 391,\n",
       " 'stub': 392,\n",
       " 'miyamoto': 393,\n",
       " 'limpest': 394,\n",
       " 'bohumil': 395,\n",
       " 'landsman': 396,\n",
       " 'vicki': 397,\n",
       " 'mince': 398,\n",
       " 'flecked': 399,\n",
       " 'sophomores': 400,\n",
       " 'nighty': 401,\n",
       " 'aronofsky': 402,\n",
       " 'condecension': 403,\n",
       " 'kidnap': 404,\n",
       " 'vieg': 405,\n",
       " 'life': 406,\n",
       " 'sketchlike': 407,\n",
       " 'vivaldi': 408,\n",
       " 'tangential': 409,\n",
       " 'suspicions': 410,\n",
       " 'jude': 411,\n",
       " 'cetnik': 412,\n",
       " 'orgasms': 413,\n",
       " 'akiyama': 414,\n",
       " 'pronounce': 415,\n",
       " 'dispatcher': 416,\n",
       " 'oakhurts': 417,\n",
       " 'incensed': 418,\n",
       " 'woorter': 419,\n",
       " 'lookit': 420,\n",
       " 'kelton': 421,\n",
       " 'informants': 422,\n",
       " 'ismir': 423,\n",
       " 'preventing': 424,\n",
       " 'fanatically': 425,\n",
       " 'uncoventional': 426,\n",
       " 'mikaele': 427,\n",
       " 'preempt': 428,\n",
       " 'reincarnations': 429,\n",
       " 'proverbs': 430,\n",
       " 'sheritt': 431,\n",
       " 'foremans': 432,\n",
       " 'lb': 433,\n",
       " 'caked': 434,\n",
       " 'mirai': 435,\n",
       " 'ooohhh': 436,\n",
       " 'windom': 437,\n",
       " 'greystone': 438,\n",
       " 'hotrod': 439,\n",
       " 'bleeder': 440,\n",
       " 'walter': 441,\n",
       " 'plagues': 442,\n",
       " 'undervalued': 443,\n",
       " 'soval': 444,\n",
       " 'ellison': 445,\n",
       " 'gaudy': 446,\n",
       " 'satisfying': 447,\n",
       " 'annabel': 448,\n",
       " 'diapered': 449,\n",
       " 'thses': 450,\n",
       " 'industrial': 451,\n",
       " 'tomorrow': 452,\n",
       " 'micro': 453,\n",
       " 'buoyant': 454,\n",
       " 'peaces': 455,\n",
       " 'airborne': 456,\n",
       " 'twi': 457,\n",
       " 'nio': 458,\n",
       " 'longevity': 459,\n",
       " 'anoes': 460,\n",
       " 'priding': 461,\n",
       " 'corkscrew': 462,\n",
       " 'doritos': 463,\n",
       " 'discipline': 464,\n",
       " 'diverting': 465,\n",
       " 'progressivecommandant': 466,\n",
       " 'nav': 467,\n",
       " 'consequence': 468,\n",
       " 'lense': 469,\n",
       " 'saotome': 470,\n",
       " 'widdoes': 471,\n",
       " 'gaslit': 472,\n",
       " 'harddrive': 473,\n",
       " 'unnerve': 474,\n",
       " 'hdn': 475,\n",
       " 'capotes': 476,\n",
       " 'sicken': 477,\n",
       " 'ignominious': 478,\n",
       " 'oedpius': 479,\n",
       " 'strides': 480,\n",
       " 'humiliated': 481,\n",
       " 'phile': 482,\n",
       " 'onset': 483,\n",
       " 'starrer': 484,\n",
       " 'journeymen': 485,\n",
       " 'brenden': 486,\n",
       " 'plow': 487,\n",
       " 'topnotch': 488,\n",
       " 'argyle': 489,\n",
       " 'pasqal': 490,\n",
       " 'unfaithfuness': 491,\n",
       " 'sweatier': 492,\n",
       " 'stems': 493,\n",
       " 'camera': 494,\n",
       " 'murdered': 495,\n",
       " 'crusading': 496,\n",
       " 'seiko': 497,\n",
       " 'enigmas': 498,\n",
       " 'radder': 499,\n",
       " 'pigeons': 500,\n",
       " 'renuka': 501,\n",
       " 'noite': 502,\n",
       " 'agekudos': 503,\n",
       " 'volnay': 504,\n",
       " 'cardboards': 505,\n",
       " 'camilla': 506,\n",
       " 'mischa': 507,\n",
       " 'despair': 508,\n",
       " 'celest': 509,\n",
       " 'quake': 510,\n",
       " 'irvin': 511,\n",
       " 'suares': 512,\n",
       " 'taskmaster': 513,\n",
       " 'elem': 514,\n",
       " 'biographical': 515,\n",
       " 'evenhandedness': 516,\n",
       " 'sigmund': 517,\n",
       " 'militaristic': 518,\n",
       " 'dornhelm': 519,\n",
       " 'sandlers': 520,\n",
       " 'spurs': 521,\n",
       " 'caverns': 522,\n",
       " 'nobody': 523,\n",
       " 'sarah': 524,\n",
       " 'springerland': 525,\n",
       " 'steadier': 526,\n",
       " 'haige': 527,\n",
       " 'albertine': 528,\n",
       " 'phew': 529,\n",
       " 'niellson': 530,\n",
       " 'kappor': 531,\n",
       " 'suggestive': 532,\n",
       " 'felitta': 533,\n",
       " 'muti': 534,\n",
       " 'plasticness': 535,\n",
       " 'indelicate': 536,\n",
       " 'villechaize': 537,\n",
       " 'bosom': 538,\n",
       " 'unofficial': 539,\n",
       " 'relocations': 540,\n",
       " 'annivesery': 541,\n",
       " 'prepon': 542,\n",
       " 'biddy': 543,\n",
       " 'diverts': 544,\n",
       " 'cretins': 545,\n",
       " 'jaongi': 546,\n",
       " 'lullaby': 547,\n",
       " 'platitude': 548,\n",
       " 'debie': 549,\n",
       " 'bafflingly': 550,\n",
       " 'hughes': 551,\n",
       " 'fante': 552,\n",
       " 'pineapple': 553,\n",
       " 'dorcas': 554,\n",
       " 'instability': 555,\n",
       " 'bettany': 556,\n",
       " 'molerats': 557,\n",
       " 'stinkbug': 558,\n",
       " 'authorial': 559,\n",
       " 'prescott': 560,\n",
       " 'exterminator': 561,\n",
       " 'ummmph': 562,\n",
       " 'gallo': 563,\n",
       " 'tinted': 564,\n",
       " 'crimedies': 565,\n",
       " 'lapaine': 566,\n",
       " 'leste': 567,\n",
       " 'girly': 568,\n",
       " 'cocteau': 569,\n",
       " 'psychiatric': 570,\n",
       " 'embeds': 571,\n",
       " 'evolvement': 572,\n",
       " 'wren': 573,\n",
       " 'walls': 574,\n",
       " 'hairspray': 575,\n",
       " 'kiarostami': 576,\n",
       " 'sleepaway': 577,\n",
       " 'exposed': 578,\n",
       " 'conceit': 579,\n",
       " 'beguiles': 580,\n",
       " 'circuits': 581,\n",
       " 'hinter': 582,\n",
       " 'physician': 583,\n",
       " 'aerobic': 584,\n",
       " 'stark': 585,\n",
       " 'pessimists': 586,\n",
       " 'matchstick': 587,\n",
       " 'hinterlands': 588,\n",
       " 'canons': 589,\n",
       " 'defeats': 590,\n",
       " 'impregnates': 591,\n",
       " 'clinched': 592,\n",
       " 'hrshitta': 593,\n",
       " 'goryuy': 594,\n",
       " 'provoked': 595,\n",
       " 'ultraviolent': 596,\n",
       " 'rebhorn': 597,\n",
       " 'maclhuen': 598,\n",
       " 'ihf': 599,\n",
       " 'shortfalls': 600,\n",
       " 'byington': 601,\n",
       " 'vermeer': 602,\n",
       " 'trafficker': 603,\n",
       " 'heatbeats': 604,\n",
       " 'myst': 605,\n",
       " 'curtailed': 606,\n",
       " 'scribes': 607,\n",
       " 'tramples': 608,\n",
       " 'schlonged': 609,\n",
       " 'nabokovian': 610,\n",
       " 'faq': 611,\n",
       " 'takahisa': 612,\n",
       " 'slither': 613,\n",
       " 'mundo': 614,\n",
       " 'creatively': 615,\n",
       " 'heuristic': 616,\n",
       " 'mola': 617,\n",
       " 'churlish': 618,\n",
       " 'hassett': 619,\n",
       " 'lexus': 620,\n",
       " 'bronze': 621,\n",
       " 'granddaddy': 622,\n",
       " 'loos': 623,\n",
       " 'gasping': 624,\n",
       " 'plaggy': 625,\n",
       " 'thrive': 626,\n",
       " 'badie': 627,\n",
       " 'foam': 628,\n",
       " 'hairstyles': 629,\n",
       " 'slotted': 630,\n",
       " 'khallas': 631,\n",
       " 'battalion': 632,\n",
       " 'jothika': 633,\n",
       " 'cyclical': 634,\n",
       " 'attract': 635,\n",
       " 'alkie': 636,\n",
       " 'snipering': 637,\n",
       " 'talky': 638,\n",
       " 'often': 639,\n",
       " 'repressed': 640,\n",
       " 'altering': 641,\n",
       " 'christiany': 642,\n",
       " 'romefeller': 643,\n",
       " 'darwininan': 644,\n",
       " 'boi': 645,\n",
       " 'aweigh': 646,\n",
       " 'campesinos': 647,\n",
       " 'greenlake': 648,\n",
       " 'chilean': 649,\n",
       " 'moves': 650,\n",
       " 'pentagram': 651,\n",
       " 'toreton': 652,\n",
       " 'railroaded': 653,\n",
       " 'bronte': 654,\n",
       " 'appearing': 655,\n",
       " 'overlooking': 656,\n",
       " 'contemplating': 657,\n",
       " 'igor': 658,\n",
       " 'totters': 659,\n",
       " 'critisism': 660,\n",
       " 'biggie': 661,\n",
       " 'riser': 662,\n",
       " 'commenced': 663,\n",
       " 'oath': 664,\n",
       " 'hmmmmmmm': 665,\n",
       " 'aragorn': 666,\n",
       " 'shh': 667,\n",
       " 'imperturbable': 668,\n",
       " 'josette': 669,\n",
       " 'stedicam': 670,\n",
       " 'gyaos': 671,\n",
       " 'damning': 672,\n",
       " 'premature': 673,\n",
       " 'chiba': 674,\n",
       " 'comedygenre': 675,\n",
       " 'drovers': 676,\n",
       " 'cinci': 677,\n",
       " 'navarrete': 678,\n",
       " 'porto': 679,\n",
       " 'tightened': 680,\n",
       " 'universality': 681,\n",
       " 'wroting': 682,\n",
       " 'dejas': 683,\n",
       " 'glum': 684,\n",
       " 'senses': 685,\n",
       " 'speeded': 686,\n",
       " 'ostensibly': 687,\n",
       " 'pscyho': 688,\n",
       " 'bisexual': 689,\n",
       " 'strapping': 690,\n",
       " 'cheapo': 691,\n",
       " 'janning': 692,\n",
       " 'opulence': 693,\n",
       " 'borstein': 694,\n",
       " 'asserts': 695,\n",
       " 'hardware': 696,\n",
       " 'ultra': 697,\n",
       " 'assesd': 698,\n",
       " 'hercule': 699,\n",
       " 'definently': 700,\n",
       " 'buono': 701,\n",
       " 'coercible': 702,\n",
       " 'eccleston': 703,\n",
       " 'unafraid': 704,\n",
       " 'maddened': 705,\n",
       " 'drenched': 706,\n",
       " 'besson': 707,\n",
       " 'angie': 708,\n",
       " 'joys': 709,\n",
       " 'horsesh': 710,\n",
       " 'filmrolls': 711,\n",
       " 'xvii': 712,\n",
       " 'characters': 713,\n",
       " 'makers': 714,\n",
       " 'lends': 715,\n",
       " 'curable': 716,\n",
       " 'loaned': 717,\n",
       " 'gymakta': 718,\n",
       " 'trombones': 719,\n",
       " 'whispered': 720,\n",
       " 'compering': 721,\n",
       " 'michelle': 722,\n",
       " 'unopposed': 723,\n",
       " 'placards': 724,\n",
       " 'grald': 725,\n",
       " 'franciosa': 726,\n",
       " 'plaage': 727,\n",
       " 'barantini': 728,\n",
       " 'consistent': 729,\n",
       " 'contradictorily': 730,\n",
       " 'twindoppelganger': 731,\n",
       " 'newsreports': 732,\n",
       " 'org': 733,\n",
       " 'volunteered': 734,\n",
       " 'lastewka': 735,\n",
       " 'profitability': 736,\n",
       " 'teammates': 737,\n",
       " 'foothold': 738,\n",
       " 'entailed': 739,\n",
       " 'nickie': 740,\n",
       " 'lobsters': 741,\n",
       " 'fieriness': 742,\n",
       " 'valjean': 743,\n",
       " 'yna': 744,\n",
       " 'hardness': 745,\n",
       " 'sukumari': 746,\n",
       " 'pediatrician': 747,\n",
       " 'wistfulness': 748,\n",
       " 'fearsome': 749,\n",
       " 'superfriends': 750,\n",
       " 'buh': 751,\n",
       " 'sticked': 752,\n",
       " 'bohemian': 753,\n",
       " 'unluckily': 754,\n",
       " 'aauugghh': 755,\n",
       " 'oscars': 756,\n",
       " 'mcnaughton': 757,\n",
       " 'howler': 758,\n",
       " 'gunilla': 759,\n",
       " 'briley': 760,\n",
       " 'adamantium': 761,\n",
       " 'preexisting': 762,\n",
       " 'teazle': 763,\n",
       " 'perros': 764,\n",
       " 'gavras': 765,\n",
       " 'biter': 766,\n",
       " 'appropriated': 767,\n",
       " 'university': 768,\n",
       " 'communists': 769,\n",
       " 'shohei': 770,\n",
       " 'ppv': 771,\n",
       " 'johnstone': 772,\n",
       " 'adjusted': 773,\n",
       " 'klavan': 774,\n",
       " 'culpas': 775,\n",
       " 'fatone': 776,\n",
       " 'wimmer': 777,\n",
       " 'ringu': 778,\n",
       " 'wwii': 779,\n",
       " 'spazz': 780,\n",
       " 'birthmarks': 781,\n",
       " 'assorted': 782,\n",
       " 'vulpi': 783,\n",
       " 'invites': 784,\n",
       " 'evaluates': 785,\n",
       " 'bloss': 786,\n",
       " 'healy': 787,\n",
       " 'nikolaev': 788,\n",
       " 'pavillion': 789,\n",
       " 'girlfrined': 790,\n",
       " 'mgm': 791,\n",
       " 'beverley': 792,\n",
       " 'ddlj': 793,\n",
       " 'understorey': 794,\n",
       " 'rate': 795,\n",
       " 'screech': 796,\n",
       " 'fallouts': 797,\n",
       " 'fended': 798,\n",
       " 'grieco': 799,\n",
       " 'babysit': 800,\n",
       " 'congo': 801,\n",
       " 'chitty': 802,\n",
       " 'kuchler': 803,\n",
       " 'tennis': 804,\n",
       " 'sponsor': 805,\n",
       " 'shillin': 806,\n",
       " 'cripples': 807,\n",
       " 'whiffs': 808,\n",
       " 'permeate': 809,\n",
       " 'ballykissangel': 810,\n",
       " 'inflexed': 811,\n",
       " 'vances': 812,\n",
       " 'corsia': 813,\n",
       " 'franko': 814,\n",
       " 'aficionados': 815,\n",
       " 'katsopolis': 816,\n",
       " 'twosome': 817,\n",
       " 'voight': 818,\n",
       " 'caldicott': 819,\n",
       " 'kendra': 820,\n",
       " 'essex': 821,\n",
       " 'dreamlike': 822,\n",
       " 'powerlessly': 823,\n",
       " 'xenomorphs': 824,\n",
       " 'taradash': 825,\n",
       " 'paschendale': 826,\n",
       " 'verst': 827,\n",
       " 'rukjan': 828,\n",
       " 'simplebut': 829,\n",
       " 'converses': 830,\n",
       " 'beacham': 831,\n",
       " 'wimpiest': 832,\n",
       " 'travails': 833,\n",
       " 'stepford': 834,\n",
       " 'devolved': 835,\n",
       " 'yield': 836,\n",
       " 'johnasson': 837,\n",
       " 'admittance': 838,\n",
       " 'marverick': 839,\n",
       " 'finesse': 840,\n",
       " 'hepcats': 841,\n",
       " 'tasuieva': 842,\n",
       " 'shiranui': 843,\n",
       " 'machinea': 844,\n",
       " 'srk': 845,\n",
       " 'exhilaration': 846,\n",
       " 'shelbyville': 847,\n",
       " 'creepies': 848,\n",
       " 'fabuleux': 849,\n",
       " 'immaturely': 850,\n",
       " 'focal': 851,\n",
       " 'overtops': 852,\n",
       " 'distended': 853,\n",
       " 'runnign': 854,\n",
       " 'shelleen': 855,\n",
       " 'swoon': 856,\n",
       " 'shiven': 857,\n",
       " 'esk': 858,\n",
       " 'remnant': 859,\n",
       " 'golberg': 860,\n",
       " 'businessman': 861,\n",
       " 'slavishly': 862,\n",
       " 'rush': 863,\n",
       " 'hairdo': 864,\n",
       " 'constructs': 865,\n",
       " 'hypotheses': 866,\n",
       " 'actively': 867,\n",
       " 'forefront': 868,\n",
       " 'tempered': 869,\n",
       " 'brice': 870,\n",
       " 'desk': 871,\n",
       " 'obvious': 872,\n",
       " 'schtock': 873,\n",
       " 'hardline': 874,\n",
       " 'suicides': 875,\n",
       " 'meld': 876,\n",
       " 'antagonizing': 877,\n",
       " 'macca': 878,\n",
       " 'antennae': 879,\n",
       " 'bergonzini': 880,\n",
       " 'tent': 881,\n",
       " 'summaries': 882,\n",
       " 'strengths': 883,\n",
       " 'keusch': 884,\n",
       " 'gt': 885,\n",
       " 'trickiness': 886,\n",
       " 'carousel': 887,\n",
       " 'cute': 888,\n",
       " 'rotweiller': 889,\n",
       " 'operative': 890,\n",
       " 'cylons': 891,\n",
       " 'capsaw': 892,\n",
       " 'dries': 893,\n",
       " 'nightfall': 894,\n",
       " 'dammit': 895,\n",
       " 'willes': 896,\n",
       " 'scent': 897,\n",
       " 'stbye': 898,\n",
       " 'warhol': 899,\n",
       " 'redeemed': 900,\n",
       " 'manfish': 901,\n",
       " 'filmmakers': 902,\n",
       " 'devastating': 903,\n",
       " 'hopper': 904,\n",
       " 'predilection': 905,\n",
       " 'fratricidal': 906,\n",
       " 'megalopolis': 907,\n",
       " 'mormondom': 908,\n",
       " 'himselfsuch': 909,\n",
       " 'amara': 910,\n",
       " 'basiclly': 911,\n",
       " 'lesbianism': 912,\n",
       " 'heikkil': 913,\n",
       " 'rubber': 914,\n",
       " 'appalling': 915,\n",
       " 'enoch': 916,\n",
       " 'nietzsches': 917,\n",
       " 'embalmed': 918,\n",
       " 'delpy': 919,\n",
       " 'tirard': 920,\n",
       " 'antirust': 921,\n",
       " 'brentwood': 922,\n",
       " 'k': 923,\n",
       " 'scareless': 924,\n",
       " 'rosete': 925,\n",
       " 'pyro': 926,\n",
       " 'hokey': 927,\n",
       " 'cuz': 928,\n",
       " 'indolently': 929,\n",
       " 'braincell': 930,\n",
       " 'consummately': 931,\n",
       " 'synthetic': 932,\n",
       " 'tinged': 933,\n",
       " 'dull': 934,\n",
       " 'brewster': 935,\n",
       " 'uncovering': 936,\n",
       " 'continue': 937,\n",
       " 'gabby': 938,\n",
       " 'luggage': 939,\n",
       " 'dismissively': 940,\n",
       " 'profanities': 941,\n",
       " 'delighting': 942,\n",
       " 'marina': 943,\n",
       " 'damnation': 944,\n",
       " 'cubs': 945,\n",
       " 'snuggle': 946,\n",
       " 'cola': 947,\n",
       " 'nepotists': 948,\n",
       " 'crawler': 949,\n",
       " 'slots': 950,\n",
       " 'blog': 951,\n",
       " 'goldworthy': 952,\n",
       " 'oughta': 953,\n",
       " 'summarize': 954,\n",
       " 'atticus': 955,\n",
       " 'benchmarks': 956,\n",
       " 'spears': 957,\n",
       " 'timon': 958,\n",
       " 'pedestrians': 959,\n",
       " 'cumulatively': 960,\n",
       " 'benumbed': 961,\n",
       " 'homolka': 962,\n",
       " 'macchio': 963,\n",
       " 'chegwin': 964,\n",
       " 'jucier': 965,\n",
       " 'aid': 966,\n",
       " 'hernand': 967,\n",
       " 'ripsnorting': 968,\n",
       " 'downriver': 969,\n",
       " 'dawkins': 970,\n",
       " 'suspended': 971,\n",
       " 'menaced': 972,\n",
       " 'disembodied': 973,\n",
       " 'degenerate': 974,\n",
       " 'derrida': 975,\n",
       " 'crookedly': 976,\n",
       " 'ends': 977,\n",
       " 'humble': 978,\n",
       " 'dant': 979,\n",
       " 'taller': 980,\n",
       " 'parts': 981,\n",
       " 'milt': 982,\n",
       " 'sustaining': 983,\n",
       " 'commentaries': 984,\n",
       " 'malkovich': 985,\n",
       " 'wouldnt': 986,\n",
       " 'nala': 987,\n",
       " 'enfants': 988,\n",
       " 'shater': 989,\n",
       " 'venezia': 990,\n",
       " 'gnash': 991,\n",
       " 'rf': 992,\n",
       " 'pados': 993,\n",
       " 'rosiland': 994,\n",
       " 'hideous': 995,\n",
       " 'beits': 996,\n",
       " 'knowable': 997,\n",
       " 'conclusively': 998,\n",
       " 'fairborn': 999,\n",
       " ...}"
      ]
     },
     "execution_count": 20,
     "metadata": {},
     "output_type": "execute_result"
    }
   ],
   "source": [
    "word2index = {}\n",
    "\n",
    "for i,word in enumerate(vocab):\n",
    "    word2index[word] = i\n",
    "word2index\n"
   ]
  },
  {
   "cell_type": "code",
   "execution_count": 23,
   "metadata": {
    "collapsed": false
   },
   "outputs": [
    {
     "data": {
      "text/plain": [
       "{'': 0,\n",
       " 'animalplanet': 6,\n",
       " 'corrosive': 4,\n",
       " 'fared': 5,\n",
       " 'forefathers': 8,\n",
       " 'frowning': 7,\n",
       " 'iaac': 1,\n",
       " 'ich': 2,\n",
       " 'munchies': 9,\n",
       " 'sanctions': 3,\n",
       " 'thicket': 10}"
      ]
     },
     "execution_count": 23,
     "metadata": {},
     "output_type": "execute_result"
    }
   ],
   "source": [
    "# Dictionary slicing function to explore the word2index dictionary\n",
    "def slice_dict(d):\n",
    "    return {k:v for k,v in d.items() if (v < 11) } # return key, values for first ten entries\n",
    "slice_dict(word2index)"
   ]
  },
  {
   "cell_type": "code",
   "execution_count": 24,
   "metadata": {
    "collapsed": true
   },
   "outputs": [],
   "source": [
    "def update_input_layer(review):\n",
    "    \n",
    "    global layer_0\n",
    "    \n",
    "    # clear out previous state, reset the layer to be all 0s\n",
    "    layer_0 *= 0\n",
    "    for word in review.split(\" \"):\n",
    "        layer_0[0][word2index[word]] += 1\n",
    "\n",
    "update_input_layer(reviews[0])"
   ]
  },
  {
   "cell_type": "code",
   "execution_count": 25,
   "metadata": {
    "collapsed": false
   },
   "outputs": [
    {
     "data": {
      "text/plain": [
       "array([[ 18.,   0.,   0., ...,   0.,   0.,   0.]])"
      ]
     },
     "execution_count": 25,
     "metadata": {},
     "output_type": "execute_result"
    }
   ],
   "source": [
    "layer_0"
   ]
  },
  {
   "cell_type": "code",
   "execution_count": 26,
   "metadata": {
    "collapsed": true
   },
   "outputs": [],
   "source": [
    "def get_target_for_label(label):\n",
    "    if(label == 'POSITIVE'):\n",
    "        return 1\n",
    "    else:\n",
    "        return 0"
   ]
  },
  {
   "cell_type": "code",
   "execution_count": 27,
   "metadata": {
    "collapsed": false
   },
   "outputs": [
    {
     "data": {
      "text/plain": [
       "'POSITIVE'"
      ]
     },
     "execution_count": 27,
     "metadata": {},
     "output_type": "execute_result"
    }
   ],
   "source": [
    "labels[0]"
   ]
  },
  {
   "cell_type": "code",
   "execution_count": 28,
   "metadata": {
    "collapsed": false
   },
   "outputs": [
    {
     "data": {
      "text/plain": [
       "1"
      ]
     },
     "execution_count": 28,
     "metadata": {},
     "output_type": "execute_result"
    }
   ],
   "source": [
    "get_target_for_label(labels[0])"
   ]
  },
  {
   "cell_type": "code",
   "execution_count": 29,
   "metadata": {
    "collapsed": false
   },
   "outputs": [
    {
     "data": {
      "text/plain": [
       "'NEGATIVE'"
      ]
     },
     "execution_count": 29,
     "metadata": {},
     "output_type": "execute_result"
    }
   ],
   "source": [
    "labels[1]"
   ]
  },
  {
   "cell_type": "code",
   "execution_count": 30,
   "metadata": {
    "collapsed": false
   },
   "outputs": [
    {
     "data": {
      "text/plain": [
       "0"
      ]
     },
     "execution_count": 30,
     "metadata": {},
     "output_type": "execute_result"
    }
   ],
   "source": [
    "get_target_for_label(labels[1])"
   ]
  },
  {
   "cell_type": "markdown",
   "metadata": {},
   "source": [
    "# Project 3: Building a Neural Network"
   ]
  },
  {
   "cell_type": "code",
   "execution_count": 31,
   "metadata": {
    "collapsed": true
   },
   "outputs": [],
   "source": [
    "# Initialize the Neural Network for Sentiment Analysis\n",
    "# Psuedo Code\n",
    "# define our neural network class, its an object:\n",
    "#     def the initialization function, parameters are self, reviews, labels, hidden_nodes, learning_rate:\n",
    "#         set the random seed generator\n",
    "#         preprocess the data, normalize it, vectorize it\n",
    "#         initialize the network with the following parameters, size of our vocab list, number of hidden nodes, number of output nodes, learning rate\n",
    "#     def our preprocess function, parameters are self, reviews, label\n",
    "#         create a set of the words in reviews\n",
    "#         create a set of the words in labels (In this problem there are only 2)\n",
    "#         create a dictionary of the words in reviews\n",
    "#         create a dictionary of the words in labels\n",
    "#     def our initialize function with the parameters self, input_nodes, hidden_nodes, output_nodes, learning_rate\n",
    "#         set the number of input nodes, hidden_nodes, and output nodes\n",
    "#         set the learning_rate\n",
    "#         set the workspace layer. best practice to allocate the memory and initialize the array with zeros\n",
    "#     def our input update layer function with parameters self and a review - this function will be processing one review at a time\n",
    "#         clear out previous workspace layer by setting values to zero\n",
    "#         loop through words in each review, if found increment the count in workspace layer\n",
    "#     def our label classification function, parameter is layer\n",
    "#         if label is positive return 1 else 0\n",
    "#     def sigmoid function\n",
    "#     def sigmoid function derivative\n",
    "#     def train function with parameters self, train_reviews, train_labels\n",
    "#         for each review in the training set\n",
    "#             set the input layer\n",
    "#             set the hidden layer\n",
    "#             set the output layer\n",
    "#             implement a forward pass\n",
    "#             implement a backwards pass\n",
    "#             update the training weights\n",
    "#     def test function with parameters self, test_reviews, test_labels\n",
    "#         for each review in the testing set\n",
    "#             call the run function and compare the predicted label with the actual label\n",
    "#     def run function with parameters self, review\n",
    "#         set the input layer\n",
    "#         set the output layer\n",
    "#         if the output layer is greater than .5 assign the review a positive label else a negative label"
   ]
  },
  {
   "cell_type": "code",
   "execution_count": 32,
   "metadata": {
    "collapsed": true
   },
   "outputs": [],
   "source": [
    "import time\n",
    "import sys\n",
    "import numpy as np\n",
    "\n",
    "class SentimentNetwork:\n",
    "    def __init__(self, reviews,labels,hidden_nodes = 10, learning_rate = 0.1):\n",
    "       \n",
    "        # set our random number generator \n",
    "        np.random.seed(1)\n",
    "    \n",
    "        self.pre_process_data(reviews, labels)\n",
    "        \n",
    "        self.init_network(len(self.review_vocab),hidden_nodes, 1, learning_rate)\n",
    "        \n",
    "        \n",
    "    def pre_process_data(self, reviews, labels):\n",
    "        \n",
    "        review_vocab = set()\n",
    "        for review in reviews:\n",
    "            for word in review.split(\" \"):\n",
    "                review_vocab.add(word)\n",
    "        self.review_vocab = list(review_vocab)\n",
    "        \n",
    "        label_vocab = set()\n",
    "        for label in labels:\n",
    "            label_vocab.add(label)\n",
    "        \n",
    "        self.label_vocab = list(label_vocab)\n",
    "        \n",
    "        self.review_vocab_size = len(self.review_vocab)\n",
    "        self.label_vocab_size = len(self.label_vocab)\n",
    "                \n",
    "        self.word2index = {}\n",
    "        for i, word in enumerate(self.review_vocab):\n",
    "            self.word2index[word] = i\n",
    "        \n",
    "        self.label2index = {}\n",
    "        for i, label in enumerate(self.label_vocab):\n",
    "            self.label2index[label] = i\n",
    "         \n",
    "        \n",
    "    def init_network(self, input_nodes, hidden_nodes, output_nodes, learning_rate):\n",
    "        # Set number of nodes in input, hidden and output layers.\n",
    "        self.input_nodes = input_nodes\n",
    "        self.hidden_nodes = hidden_nodes\n",
    "        self.output_nodes = output_nodes\n",
    "\n",
    "        # Initialize weights\n",
    "        self.weights_0_1 = np.zeros((self.input_nodes,self.hidden_nodes))\n",
    "    \n",
    "        self.weights_1_2 = np.random.normal(0.0, self.output_nodes**-0.5, \n",
    "                                                (self.hidden_nodes, self.output_nodes))\n",
    "        \n",
    "        self.learning_rate = learning_rate\n",
    "        \n",
    "        self.layer_0 = np.zeros((1,input_nodes))\n",
    "    \n",
    "        \n",
    "    def update_input_layer(self,review):\n",
    "\n",
    "        # clear out previous state, reset the layer to be all 0s\n",
    "        self.layer_0 *= 0\n",
    "        for word in review.split(\" \"):\n",
    "            if(word in self.word2index.keys()):\n",
    "                self.layer_0[0][self.word2index[word]] += 1   \n",
    "            \n",
    "    def get_target_for_label(self,label):\n",
    "        if(label == 'POSITIVE'):\n",
    "            return 1\n",
    "        else:\n",
    "            return 0\n",
    "        \n",
    "    def sigmoid(self,x):\n",
    "        return 1 / (1 + np.exp(-x))\n",
    "    \n",
    "    \n",
    "    def sigmoid_output_2_derivative(self,output):\n",
    "        return output * (1 - output)\n",
    "    \n",
    "    def train(self, training_reviews, training_labels):\n",
    "        # Test to make sure the reviews and labels are the same size\n",
    "        assert(len(training_reviews) == len(training_labels))\n",
    "        \n",
    "        # Counter value to check how many preditions we get right before and after training\n",
    "        correct_so_far = 0\n",
    "        \n",
    "        # Timer function \n",
    "        start = time.time()\n",
    "        \n",
    "        for i in range(len(training_reviews)):\n",
    "            \n",
    "            review = training_reviews[i]\n",
    "            label = training_labels[i]\n",
    "            \n",
    "            #### Implement the forward pass here ####\n",
    "            ### Forward pass ###\n",
    "\n",
    "            # Input Layer\n",
    "            self.update_input_layer(review)\n",
    "\n",
    "            # Hidden layer\n",
    "            layer_1 = self.layer_0.dot(self.weights_0_1)\n",
    "\n",
    "            # Output layer\n",
    "            layer_2 = self.sigmoid(layer_1.dot(self.weights_1_2))\n",
    "\n",
    "            #### Implement the backward pass here ####\n",
    "            ### Backward pass ###\n",
    "\n",
    "            # Output error\n",
    "            layer_2_error = layer_2 - self.get_target_for_label(label) # Output layer error is the difference between desired target and actual output.\n",
    "            layer_2_delta = layer_2_error * self.sigmoid_output_2_derivative(layer_2)\n",
    "\n",
    "            # Backpropagated error\n",
    "            layer_1_error = layer_2_delta.dot(self.weights_1_2.T) # errors propagated to the hidden layer\n",
    "            layer_1_delta = layer_1_error # hidden layer gradients - no nonlinearity so it's the same as the error\n",
    "\n",
    "            # Update the weights\n",
    "            self.weights_1_2 -= layer_1.T.dot(layer_2_delta) * self.learning_rate # update hidden-to-output weights with gradient descent step\n",
    "            self.weights_0_1 -= self.layer_0.T.dot(layer_1_delta) * self.learning_rate # update input-to-hidden weights with gradient descent step\n",
    "\n",
    "            if(np.abs(layer_2_error) < 0.5):\n",
    "                correct_so_far += 1\n",
    "            \n",
    "            # Timing statistics\n",
    "            reviews_per_second = i / float(time.time() - start)\n",
    "            \n",
    "            sys.stdout.write(\"\\rProgress:\" + str(100 * i/float(len(training_reviews)))[:4] + \"% Speed(reviews/sec):\" + str(reviews_per_second)[0:5] + \" #Correct:\" + str(correct_so_far) + \" #Trained:\" + str(i+1) + \" Training Accuracy:\" + str(correct_so_far * 100 / float(i+1))[:4] + \"%\")\n",
    "            if(i % 2500 == 0):\n",
    "                print(\"\")\n",
    "    \n",
    "    def test(self, testing_reviews, testing_labels):\n",
    "        \n",
    "        correct = 0\n",
    "        \n",
    "        start = time.time()\n",
    "        \n",
    "        for i in range(len(testing_reviews)):\n",
    "            pred = self.run(testing_reviews[i])\n",
    "            if(pred == testing_labels[i]):\n",
    "                correct += 1\n",
    "            \n",
    "            reviews_per_second = i / float(time.time() - start)\n",
    "            \n",
    "            sys.stdout.write(\"\\rProgress:\" + str(100 * i/float(len(testing_reviews)))[:4] \\\n",
    "                             + \"% Speed(reviews/sec):\" + str(reviews_per_second)[0:5] \\\n",
    "                            + \"% #Correct:\" + str(correct) + \" #Tested:\" + str(i+1) + \" Testing Accuracy:\" + str(correct * 100 / float(i+1))[:4] + \"%\")\n",
    "    \n",
    "    def run(self, review):\n",
    "        \n",
    "        # Input Layer\n",
    "        self.update_input_layer(review.lower())\n",
    "\n",
    "        # Hidden layer\n",
    "        layer_1 = self.layer_0.dot(self.weights_0_1)\n",
    "\n",
    "        # Output layer\n",
    "        layer_2 = self.sigmoid(layer_1.dot(self.weights_1_2))\n",
    "        \n",
    "        if(layer_2[0] > 0.5):\n",
    "            return \"POSITIVE\"\n",
    "        else:\n",
    "            return \"NEGATIVE\"\n",
    "        "
   ]
  },
  {
   "cell_type": "markdown",
   "metadata": {},
   "source": [
    "# Call Our Sentiment Network"
   ]
  },
  {
   "cell_type": "code",
   "execution_count": null,
   "metadata": {
    "collapsed": true
   },
   "outputs": [],
   "source": [
    "mlp = SentimentNetwork(reviews[:-1000],labels[:-1000], learning_rate=0.1)"
   ]
  },
  {
   "cell_type": "code",
   "execution_count": null,
   "metadata": {
    "collapsed": true
   },
   "outputs": [],
   "source": [
    "# evaluate our model before training (just to show how horrible it is)\n",
    "mlp.test(reviews[-1000:],labels[-1000:])"
   ]
  },
  {
   "cell_type": "code",
   "execution_count": null,
   "metadata": {
    "collapsed": true
   },
   "outputs": [],
   "source": [
    "# train the network\n",
    "mlp.train(reviews[:-1000],labels[:-1000])"
   ]
  },
  {
   "cell_type": "markdown",
   "metadata": {},
   "source": [
    "# Checking The Results\n",
    "- How much more accurate are the results after training?\n",
    "\n",
    "# Teaser\n",
    "- What would happen if a review had been positive but described problems with toxic waste? The text might look like, \n",
    "> The disgusting truth of toxic waste dumping has never been portrayed more accurately. Terrible truth, fantastic movie.\n",
    "- How could we control for such situations? \n",
    "- What are possible downsides of trying to predict outlier cases?"
   ]
  },
  {
   "cell_type": "code",
   "execution_count": null,
   "metadata": {
    "collapsed": true
   },
   "outputs": [],
   "source": []
  }
 ],
 "metadata": {
  "anaconda-cloud": {},
  "kernelspec": {
   "display_name": "Python 3",
   "language": "python",
   "name": "python3"
  },
  "language_info": {
   "codemirror_mode": {
    "name": "ipython",
    "version": 3
   },
   "file_extension": ".py",
   "mimetype": "text/x-python",
   "name": "python",
   "nbconvert_exporter": "python",
   "pygments_lexer": "ipython3",
   "version": "3.6.0"
  }
 },
 "nbformat": 4,
 "nbformat_minor": 1
}
